{
 "cells": [
  {
   "cell_type": "markdown",
   "metadata": {},
   "source": [
    "<img src=\"http://imgur.com/1ZcRyrc.png\" style=\"float: left; margin: 20px; height: 55px\">\n",
    "\n",
    "# Project 1: Python Coding Exercises\n",
    "\n",
    "_Authors: Joseph Nelson (DC) _\n",
    "\n",
    "---"
   ]
  },
  {
   "cell_type": "markdown",
   "metadata": {},
   "source": [
    "The following code challenges are drawn from common exercises used in technical interviews.\n",
    "\n",
    "Please note that there may be several ways to approach each challenge. If you get stuck, try mapping out your approach in pseudocode first. Finally, while solutions to problems like these may be found online, remember that if you copy/paste code that you can't explain, you'll be missing out on the point of the project. The only way to truly learn a new skill is through practice, trial, and error - we can only help you improve by understanding where you are having trouble."
   ]
  },
  {
   "cell_type": "markdown",
   "metadata": {},
   "source": [
    "### Challenge 1: Largest Palindrome\n",
    "A palindromic number reads the same both ways. For example, 1234321 is a palindrome. The largest palindrome made from the product of two two-digit numbers is 9009 = 91 × 99. Find the largest palindrome made from the product of two three-digit numbers. Afterward, write a brief explanation walking through your code's logic in markdown."
   ]
  },
  {
   "cell_type": "code",
   "execution_count": 70,
   "metadata": {},
   "outputs": [
    {
     "name": "stdout",
     "output_type": "stream",
     "text": [
      "906609\n"
     ]
    }
   ],
   "source": [
    "def largest_palindrome():\n",
    "    largest_product = 0\n",
    "    \n",
    "    for first_num in range(999, 99, -1):\n",
    "        for second_num in range(first_num, 99, -1):\n",
    "            product = first_num * second_num\n",
    "            product_string = str(product)\n",
    "            reverse_product_string = product_string[::-1]\n",
    "            \n",
    "            if product_string == reverse_product_string and product > largest_product:\n",
    "                largest_product = product\n",
    "                \n",
    "    return largest_product\n",
    "\n",
    "print(largest_palindrome())"
   ]
  },
  {
   "cell_type": "markdown",
   "metadata": {},
   "source": [
    "#### Explanation\n",
    "To get the largest palindrome from the product of two 3-digit numbers, find the product of the all the 3-digit numbers, starting from the largest 3-digit number (999), i.e.:\n",
    "1. 999 X (999 to 100)\n",
    "2. 998 X (998 to 100)\n",
    "3. 997 X (997 to 100)\n",
    "\n",
    "Hence:\n",
    "1. Create 2 for loops, with the first number running from 999 to 100 and the 2nd running from the first number to 100.\n",
    "2. Multiply them and keep the product if it is a palindrome and the largest product so far.\n",
    "3. Return the value of the largest product at the end of the 2 loops."
   ]
  },
  {
   "cell_type": "markdown",
   "metadata": {},
   "source": [
    "\n",
    "### Challenge 2: Summation of Primes\n",
    "The sum of the primes below 10 is 2 + 3 + 5 + 7 = 17. Find the sum of all the primes below 2,000. Afterward, write a brief explanation walking through your code's logic in markdown."
   ]
  },
  {
   "cell_type": "code",
   "execution_count": 71,
   "metadata": {},
   "outputs": [
    {
     "name": "stdout",
     "output_type": "stream",
     "text": [
      "277050\n"
     ]
    }
   ],
   "source": [
    "def sum_of_primes(limit):\n",
    "    prime_flag_array = [True] * limit\n",
    "\n",
    "    prime_flag_array[0] = False\n",
    "    prime_flag_array[1] = False\n",
    "    \n",
    "    num = 2\n",
    "    \n",
    "    while num * num < limit:\n",
    "        for i in range(num * num, limit, num):\n",
    "            prime_flag_array[i] = False\n",
    "        num += 1\n",
    "    \n",
    "    return sum([num for num, is_prime in enumerate(prime_flag_array) if is_prime])\n",
    "        \n",
    "print(sum_of_primes(2000))"
   ]
  },
  {
   "cell_type": "markdown",
   "metadata": {},
   "source": [
    "#### Explanation\n",
    "To get the sum of all primes below 2000, get all multiples of numbers starting from 2, 3, 4.. and flag them as non-prime numbers, i.e.:\n",
    "\n",
    "2: 4, 6, 8, 10, ...\n",
    "\n",
    "3: 6 (X 2), 9, 12, 15, ...\n",
    "\n",
    "4: 8 (X 2), 12 (X 3), 16, 20, ...\n",
    "\n",
    "n: n X 2, n X 3, n X 4, n X 5, ... \n",
    "\n",
    "Since the first few multiples of 3 and 4 {6 (found in 2 X 3), 8 (found in 2 X 4), 12 (found in 3 X 4)} are already covered, the lowest multiple for n can start from n X n.\n",
    "\n",
    "Hence:\n",
    "1. Create an array of length 2000 and set every value to `True`. Set value at index 0 and 1 to False as they are not prime numbers.\n",
    "2. As long as n * n (the lowest multiple not covered) is below 2000, find all multiples of n (starting from n * n, n * (n + 1), n * (n + 2), ...) and set their values in the array to `False` since they are not prime numbers.\n",
    "3. Get the sum of all numbers that have a `True` value in the array."
   ]
  },
  {
   "cell_type": "markdown",
   "metadata": {},
   "source": [
    "\n",
    "### Challenge 3: Multiples of 3 and 5\n",
    "If we list all of the natural numbers below 10 that are multiples of 3 or 5, we get 3, 5, 6, and 9. The sum of these multiples is 23. Find the sum of all the multiples of 3 and 5 below 1,000. Afterward, write a brief explanation walking through your code's logic in markdown."
   ]
  },
  {
   "cell_type": "code",
   "execution_count": 72,
   "metadata": {},
   "outputs": [
    {
     "name": "stdout",
     "output_type": "stream",
     "text": [
      "233168\n"
     ]
    }
   ],
   "source": [
    "def sum_of_multiples(limit):\n",
    "    return sum([i for i in range(limit) if i % 3 == 0 or i % 5 == 0])\n",
    "    \n",
    "print(sum_of_multiples(1000))"
   ]
  },
  {
   "cell_type": "markdown",
   "metadata": {},
   "source": [
    "#### Explanation\n",
    "To find the sum of all multiples of 3 and 5 below 1000, get a list of numbers from 0 to 999 that can be divided by 3 or 5 and use `sum` to get the total."
   ]
  },
  {
   "cell_type": "markdown",
   "metadata": {},
   "source": [
    "### Challenge 4: String Compressor\n",
    "Implement a method to perform basic string compression using the counts of repeated characters. (This is called run-length encoding.) For example, the string \"aabcccccaaa\" would become a2b1c5a3. If the “compressed” string would not become smaller than the original string, your method should return the original string. You can assume the string has only uppercase and lowercase letters (a–z). Specify whether your solution is case sensitive or case insensitive and what you would need to change to make it the other. Afterward, write a brief explanation walking through your code's logic in markdown."
   ]
  },
  {
   "cell_type": "code",
   "execution_count": 73,
   "metadata": {},
   "outputs": [
    {
     "name": "stdout",
     "output_type": "stream",
     "text": [
      "a2b1c5a3\n"
     ]
    }
   ],
   "source": [
    "# Solution is case insensitive.\n",
    "# For solution to be case sensitive, don't change string_to_compress to lowercase\n",
    "def string_compression(string_to_compress):\n",
    "    string_to_compress_lower = string_to_compress.lower()\n",
    "    string_compressed = \"\"\n",
    "    current_char = string_to_compress_lower[0]\n",
    "    count = 0\n",
    "    \n",
    "    for index, char in enumerate(string_to_compress_lower):\n",
    "        if current_char == char:\n",
    "            count += 1\n",
    "        else:\n",
    "            string_compressed += f\"{current_char}{count}\"\n",
    "                \n",
    "            current_char = char\n",
    "            count = 1\n",
    "            \n",
    "        if index == len(string_to_compress_lower) - 1:\n",
    "            string_compressed += f\"{current_char}{count}\"\n",
    "\n",
    "    if len(string_compressed) < len(string_to_compress):\n",
    "        return string_compressed\n",
    "    else:\n",
    "        return string_to_compress\n",
    "\n",
    "print(string_compression(\"AabcCCccaaa\"))"
   ]
  },
  {
   "cell_type": "markdown",
   "metadata": {},
   "source": [
    "#### Explanation\n",
    "Iterate through the string and keep track of the character and the count.\n",
    "1. If the character is different from the previous one, add previous character and count to compressed string. Reset count to 1 and keep track of new character.\n",
    "2. If the character is the same, add 1 to the count.\n",
    "\n",
    "At the last character of the string, add the character and count to the compressed string"
   ]
  },
  {
   "cell_type": "markdown",
   "metadata": {},
   "source": [
    "### *BONUS* Challenge: FizzBuzz\n",
    "Write a program that prints all of the numbers from 1 to 100. For multiples of 3, instead of the number, print \"Fizz;\" for multiples of 5, print \"Buzz.\" For numbers that are multiples of both 3 and 5, print \"FizzBuzz.\" Afterward, write a brief explanation walking through your code's logic in markdown."
   ]
  },
  {
   "cell_type": "code",
   "execution_count": 74,
   "metadata": {},
   "outputs": [
    {
     "name": "stdout",
     "output_type": "stream",
     "text": [
      "1\n",
      "2\n",
      "Fizz\n",
      "4\n",
      "Buzz\n",
      "Fizz\n",
      "7\n",
      "8\n",
      "Fizz\n",
      "Buzz\n",
      "11\n",
      "Fizz\n",
      "13\n",
      "14\n",
      "FizzBuzz\n",
      "16\n",
      "17\n",
      "Fizz\n",
      "19\n",
      "Buzz\n",
      "Fizz\n",
      "22\n",
      "23\n",
      "Fizz\n",
      "Buzz\n",
      "26\n",
      "Fizz\n",
      "28\n",
      "29\n",
      "FizzBuzz\n",
      "31\n",
      "32\n",
      "Fizz\n",
      "34\n",
      "Buzz\n",
      "Fizz\n",
      "37\n",
      "38\n",
      "Fizz\n",
      "Buzz\n",
      "41\n",
      "Fizz\n",
      "43\n",
      "44\n",
      "FizzBuzz\n",
      "46\n",
      "47\n",
      "Fizz\n",
      "49\n",
      "Buzz\n",
      "Fizz\n",
      "52\n",
      "53\n",
      "Fizz\n",
      "Buzz\n",
      "56\n",
      "Fizz\n",
      "58\n",
      "59\n",
      "FizzBuzz\n",
      "61\n",
      "62\n",
      "Fizz\n",
      "64\n",
      "Buzz\n",
      "Fizz\n",
      "67\n",
      "68\n",
      "Fizz\n",
      "Buzz\n",
      "71\n",
      "Fizz\n",
      "73\n",
      "74\n",
      "FizzBuzz\n",
      "76\n",
      "77\n",
      "Fizz\n",
      "79\n",
      "Buzz\n",
      "Fizz\n",
      "82\n",
      "83\n",
      "Fizz\n",
      "Buzz\n",
      "86\n",
      "Fizz\n",
      "88\n",
      "89\n",
      "FizzBuzz\n",
      "91\n",
      "92\n",
      "Fizz\n",
      "94\n",
      "Buzz\n",
      "Fizz\n",
      "97\n",
      "98\n",
      "Fizz\n",
      "Buzz\n"
     ]
    }
   ],
   "source": [
    "def fizzbuzz():\n",
    "    for i in range(1, 101):\n",
    "        if i % 15 == 0:\n",
    "            print(\"FizzBuzz\")\n",
    "        elif i % 3 == 0:\n",
    "            print(\"Fizz\")\n",
    "        elif i % 5 == 0:\n",
    "            print(\"Buzz\")\n",
    "        else:\n",
    "            print(i)\n",
    "fizzbuzz()"
   ]
  },
  {
   "cell_type": "markdown",
   "metadata": {},
   "source": [
    "#### Explanation\n",
    "Since multiples of 3 and 5 can be divided by 15 (3 X 5), first check if numbers from 1 to 100 can be divided by 15, followed by 3 and 5. "
   ]
  },
  {
   "cell_type": "code",
   "execution_count": null,
   "metadata": {},
   "outputs": [],
   "source": []
  }
 ],
 "metadata": {
  "anaconda-cloud": {},
  "kernelspec": {
   "display_name": "Python 3 (ipykernel)",
   "language": "python",
   "name": "python3"
  },
  "language_info": {
   "codemirror_mode": {
    "name": "ipython",
    "version": 3
   },
   "file_extension": ".py",
   "mimetype": "text/x-python",
   "name": "python",
   "nbconvert_exporter": "python",
   "pygments_lexer": "ipython3",
   "version": "3.9.12"
  }
 },
 "nbformat": 4,
 "nbformat_minor": 2
}
